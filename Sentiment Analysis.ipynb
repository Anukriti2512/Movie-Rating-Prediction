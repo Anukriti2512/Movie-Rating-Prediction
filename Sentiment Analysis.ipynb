{
 "cells": [
  {
   "cell_type": "code",
   "execution_count": 38,
   "metadata": {},
   "outputs": [],
   "source": [
    "from nltk.tokenize import RegexpTokenizer\n",
    "from nltk.stem.porter import PorterStemmer\n",
    "from nltk.corpus import stopwords"
   ]
  },
  {
   "cell_type": "code",
   "execution_count": 39,
   "metadata": {},
   "outputs": [],
   "source": [
    "tokenizer = RegexpTokenizer(r'\\w+')\n",
    "stopwords_eng = set(stopwords.words('english'))\n",
    "stemmer = PorterStemmer()"
   ]
  },
  {
   "cell_type": "code",
   "execution_count": 40,
   "metadata": {},
   "outputs": [],
   "source": [
    "def getStemmedReview(review):\n",
    "    \n",
    "    review = review.lower()\n",
    "    review = review.replace(\"<br /><br />\", \" \")\n",
    "    tokens = tokenizer.tokenize(review)\n",
    "    new_tokens = []\n",
    "    stemmed_tokens = []\n",
    "    \n",
    "    for token in tokens:\n",
    "        if token not in stopwords_eng:\n",
    "            new_tokens.append(token)\n",
    "    \n",
    "    for token in new_tokens:\n",
    "        stemmed_tokens.append(stemmer.stem(token))\n",
    "        \n",
    "    cleaned_review = ' '.join(stemmed_tokens)\n",
    "    return cleaned_review\n",
    "    "
   ]
  },
  {
   "cell_type": "code",
   "execution_count": 41,
   "metadata": {},
   "outputs": [],
   "source": [
    "sample_text = \"\"\"Another of many nearly forgotten movies cranked out by Poverty Row in the 1930's, resurrected by the magic of DVD.<br /><br />Starring stock Universal player Lionel Atwill (often a supporting actor in numerous Frankenstein movies) as a pair of twins involved in a murder racket. One kills the victims (stockbrokers involved in a scam) and asks witnesses for the exact time, while the other is deaf and is proved \"innocent\" because he could not have spoken to witnesses.<br /><br />Of course, where it falls apart is if it was a congenital deafness, wouldn't they both be deaf? Oh, well.<br /><br />Atwill does a pretty good job here, faking being deaf and mute. Unfortunately, no one else here can really act worth a darn.\"\"\""
   ]
  },
  {
   "cell_type": "code",
   "execution_count": 42,
   "metadata": {},
   "outputs": [
    {
     "data": {
      "text/plain": [
       "'anoth mani nearli forgotten movi crank poverti row 1930 resurrect magic dvd star stock univers player lionel atwil often support actor numer frankenstein movi pair twin involv murder racket one kill victim stockbrok involv scam ask wit exact time deaf prove innoc could spoken wit cours fall apart congenit deaf deaf oh well atwil pretti good job fake deaf mute unfortun one els realli act worth darn'"
      ]
     },
     "execution_count": 42,
     "metadata": {},
     "output_type": "execute_result"
    }
   ],
   "source": [
    "getStemmedReview(sample_text)"
   ]
  },
  {
   "cell_type": "code",
   "execution_count": 26,
   "metadata": {},
   "outputs": [],
   "source": [
    "import numpy as np\n",
    "import pandas as pd"
   ]
  },
  {
   "cell_type": "code",
   "execution_count": 45,
   "metadata": {},
   "outputs": [],
   "source": [
    "def getStemmedDocument(inputFile, outputFile):\n",
    "\n",
    "    out = open(outputFile, 'w')\n",
    "    with open(inputFile) as f:\n",
    "        reviews = f.readlines()\n",
    "    \n",
    "    for review in reviews:\n",
    "        \n",
    "        cleaned_review = getStemmedReview(review)\n",
    "        print(cleaned_review, file=out)\n",
    "        \n",
    "    out.close()"
   ]
  },
  {
   "cell_type": "code",
   "execution_count": 46,
   "metadata": {},
   "outputs": [],
   "source": [
    "getStemmedDocument(\"Train.csv\", \"Train_clnd.csv\")"
   ]
  },
  {
   "cell_type": "code",
   "execution_count": 47,
   "metadata": {},
   "outputs": [],
   "source": []
  },
  {
   "cell_type": "code",
   "execution_count": null,
   "metadata": {},
   "outputs": [],
   "source": []
  }
 ],
 "metadata": {
  "kernelspec": {
   "display_name": "Python 3",
   "language": "python",
   "name": "python3"
  },
  "language_info": {
   "codemirror_mode": {
    "name": "ipython",
    "version": 3
   },
   "file_extension": ".py",
   "mimetype": "text/x-python",
   "name": "python",
   "nbconvert_exporter": "python",
   "pygments_lexer": "ipython3",
   "version": "3.7.1"
  }
 },
 "nbformat": 4,
 "nbformat_minor": 2
}
